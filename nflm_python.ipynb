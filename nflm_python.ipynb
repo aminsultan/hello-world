{
  "nbformat": 4,
  "nbformat_minor": 0,
  "metadata": {
    "colab": {
      "name": "nflm python",
      "provenance": [],
      "collapsed_sections": [],
      "authorship_tag": "ABX9TyOI6fstaUmWeS4UlgQPHuBb",
      "include_colab_link": true
    },
    "kernelspec": {
      "name": "python3",
      "display_name": "Python 3"
    }
  },
  "cells": [
    {
      "cell_type": "markdown",
      "metadata": {
        "id": "view-in-github",
        "colab_type": "text"
      },
      "source": [
        "<a href=\"https://colab.research.google.com/github/aminsultan/hello-world/blob/master/nflm_python.ipynb\" target=\"_parent\"><img src=\"https://colab.research.google.com/assets/colab-badge.svg\" alt=\"Open In Colab\"/></a>"
      ]
    },
    {
      "cell_type": "code",
      "metadata": {
        "id": "oW0MciInPzM-",
        "colab_type": "code",
        "colab": {
          "base_uri": "https://localhost:8080/",
          "height": 85
        },
        "outputId": "836837f8-e33d-4a6d-eff1-c361e04524d8"
      },
      "source": [
        "a=int(input(\"enter a number:\"))\n",
        "b=int(input(\"enter a number:\"))\n",
        "c=int(input(\"enter a number:\"))\n",
        "sum=a+b+c\n",
        "if a==b or b==c or c==a:\n",
        "  print(\"zero\")\n",
        "else:\n",
        "  print(\"sum\")"
      ],
      "execution_count": 1,
      "outputs": [
        {
          "output_type": "stream",
          "text": [
            "enter a number:12\n",
            "enter a number:12\n",
            "enter a number:12\n",
            "zero\n"
          ],
          "name": "stdout"
        }
      ]
    },
    {
      "cell_type": "code",
      "metadata": {
        "id": "LXkwTfFSRsbn",
        "colab_type": "code",
        "colab": {
          "base_uri": "https://localhost:8080/",
          "height": 68
        },
        "outputId": "5c1d35a8-f840-4b42-f6cd-d9779c5ff726"
      },
      "source": [
        "a=int(input(\"enter a number:\"))\n",
        "b=int(input(\"enter a number:\"))\n",
        "sum=a+b\n",
        "if 15<sum<20:\n",
        "  print(20)\n",
        "else:\n",
        "  print(sum)"
      ],
      "execution_count": 2,
      "outputs": [
        {
          "output_type": "stream",
          "text": [
            "enter a number:12\n",
            "enter a number:4\n",
            "20\n"
          ],
          "name": "stdout"
        }
      ]
    },
    {
      "cell_type": "code",
      "metadata": {
        "id": "oj530xBRTPDP",
        "colab_type": "code",
        "colab": {
          "base_uri": "https://localhost:8080/",
          "height": 68
        },
        "outputId": "cb544b40-4b5b-43a9-a7a8-fe1ec9400e59"
      },
      "source": [
        "a=int(input(\"enter a number:\"))\n",
        "b=int(input(\"enter a number:\"))\n",
        "sum=a+b\n",
        "diff=a-b\n",
        "if a==b or sum==5 or diff==5:\n",
        "  print(\"true\")\n",
        "else:\n",
        "  print(\"false\")"
      ],
      "execution_count": 3,
      "outputs": [
        {
          "output_type": "stream",
          "text": [
            "enter a number:25\n",
            "enter a number:23\n",
            "false\n"
          ],
          "name": "stdout"
        }
      ]
    },
    {
      "cell_type": "code",
      "metadata": {
        "id": "e1p_ZuumVVCV",
        "colab_type": "code",
        "colab": {
          "base_uri": "https://localhost:8080/",
          "height": 119
        },
        "outputId": "b7de1f13-f69e-4add-8b27-58113805f5f1"
      },
      "source": [
        "name=str(input(\"enter your name:\"))\n",
        "age=int(input(\"enter your age:\"))\n",
        "address=str(input(\"enter your address:\"))\n",
        "print(\"your name is:\"+\"\"+ name)\n",
        "print(\"your age is: \" ,age)\n",
        "print(\"your address is:\"+\"\"+ address)"
      ],
      "execution_count": 8,
      "outputs": [
        {
          "output_type": "stream",
          "text": [
            "enter your name:amin\n",
            "enter your age:32\n",
            "enter your address:nagpur\n",
            "your name is:amin\n",
            "your age is:  32\n",
            "your address is:nagpur\n"
          ],
          "name": "stdout"
        }
      ]
    },
    {
      "cell_type": "code",
      "metadata": {
        "id": "4m0YbLndXWLw",
        "colab_type": "code",
        "colab": {
          "base_uri": "https://localhost:8080/",
          "height": 119
        },
        "outputId": "6ccde71c-1929-4536-cf04-9fbba0ab5114"
      },
      "source": [
        "name=str(input(\"enter your name:\"))\n",
        "age=int(input(\"enter your age:\"))\n",
        "address=str(input(\"enter your address:\"))\n",
        "print(name,'\\n',age,'\\n',address)"
      ],
      "execution_count": 13,
      "outputs": [
        {
          "output_type": "stream",
          "text": [
            "enter your name:amin\n",
            "enter your age:32\n",
            "enter your address:nagpur\n",
            "amin \n",
            " 32 \n",
            " nagpur\n"
          ],
          "name": "stdout"
        }
      ]
    },
    {
      "cell_type": "code",
      "metadata": {
        "id": "DAApaDgsZqqM",
        "colab_type": "code",
        "colab": {
          "base_uri": "https://localhost:8080/",
          "height": 68
        },
        "outputId": "b180b029-30e1-4a21-8c12-ca64136fae7d"
      },
      "source": [
        "import math\n",
        "x=int(input(\"enter a number:\"))\n",
        "y=int(input(\"enter another number:\"))\n",
        "res=math.pow((x+y),2)\n",
        "print(res)"
      ],
      "execution_count": 16,
      "outputs": [
        {
          "output_type": "stream",
          "text": [
            "enter a number:2\n",
            "enter another number:4\n",
            "36.0\n"
          ],
          "name": "stdout"
        }
      ]
    },
    {
      "cell_type": "code",
      "metadata": {
        "id": "w-QvEENgavKx",
        "colab_type": "code",
        "colab": {
          "base_uri": "https://localhost:8080/",
          "height": 85
        },
        "outputId": "3324d9f0-5f95-4d5a-ada2-c77aeb517232"
      },
      "source": [
        "import math\n",
        "p=int(input(\"enter the principle amount:\"))\n",
        "r=int(input(\"enter the rate of interest:\"))\n",
        "n=int(input(\"enter the number of years:\"))\n",
        "res=p*(math.pow((1+0.01*r),n))\n",
        "print(res)"
      ],
      "execution_count": 17,
      "outputs": [
        {
          "output_type": "stream",
          "text": [
            "enter the principle amount:10000\n",
            "enter the rate of interest:10\n",
            "enter the number of years:3\n",
            "13310.000000000004\n"
          ],
          "name": "stdout"
        }
      ]
    },
    {
      "cell_type": "code",
      "metadata": {
        "id": "YSkQzbANcWFK",
        "colab_type": "code",
        "colab": {
          "base_uri": "https://localhost:8080/",
          "height": 102
        },
        "outputId": "94b7ee69-f7c9-44a5-8fe7-0e3d16345f1f"
      },
      "source": [
        "import math\n",
        "x1=int(input(\"enter the value of x1:\"))\n",
        "y1=int(input(\"enter the value of y1:\"))\n",
        "x2=int(input(\"enter the value of x2:\"))\n",
        "y2=int(input(\"enter the value of y2:\"))\n",
        "res=math.pow(math.pow((x2-x1),2)+math.pow((y2-y1),2),0.5)\n",
        "print(res)"
      ],
      "execution_count": 19,
      "outputs": [
        {
          "output_type": "stream",
          "text": [
            "enter the value of x1:10\n",
            "enter the value of y1:5\n",
            "enter the value of x2:20\n",
            "enter the value of y2:10\n",
            "11.180339887498949\n"
          ],
          "name": "stdout"
        }
      ]
    },
    {
      "cell_type": "code",
      "metadata": {
        "id": "NC5_JQ2uhZtw",
        "colab_type": "code",
        "colab": {}
      },
      "source": [
        ""
      ],
      "execution_count": 0,
      "outputs": []
    }
  ]
}